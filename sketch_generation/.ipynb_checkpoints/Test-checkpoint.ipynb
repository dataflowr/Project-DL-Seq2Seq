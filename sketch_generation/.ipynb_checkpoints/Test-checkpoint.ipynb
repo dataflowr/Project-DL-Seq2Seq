{
 "cells": [
  {
   "cell_type": "code",
   "execution_count": 42,
   "id": "minute-kitchen",
   "metadata": {},
   "outputs": [],
   "source": [
    "import torch\n",
    "import numpy as np\n",
    "import matplotlib.pyplot as plt\n",
    "import pandas as pd\n",
    "\n",
    "from eval_skrnn import draw_image"
   ]
  },
  {
   "cell_type": "code",
   "execution_count": 37,
   "id": "charged-credits",
   "metadata": {},
   "outputs": [],
   "source": [
    "kanji_data = pd.read_pickle('sketch-rnn-datasets/kanji/kanji.cpkl')\n",
    "cat_data = np.load('sketch-rnn-datasets/cat/cat.npz', encoding='latin1', allow_pickle=True)"
   ]
  },
  {
   "cell_type": "code",
   "execution_count": 43,
   "id": "worse-bangkok",
   "metadata": {},
   "outputs": [
    {
     "ename": "TypeError",
     "evalue": "draw_image() got an unexpected keyword argument 'compare_to'",
     "output_type": "error",
     "traceback": [
      "\u001b[1;31m---------------------------------------------------------------------------\u001b[0m",
      "\u001b[1;31mTypeError\u001b[0m                                 Traceback (most recent call last)",
      "\u001b[1;32m<ipython-input-43-a1c6a289f53b>\u001b[0m in \u001b[0;36m<module>\u001b[1;34m\u001b[0m\n\u001b[1;32m----> 1\u001b[1;33m \u001b[0mdraw_image\u001b[0m\u001b[1;33m(\u001b[0m\u001b[0mkanji_data\u001b[0m\u001b[1;33m[\u001b[0m\u001b[1;36m100\u001b[0m\u001b[1;33m]\u001b[0m\u001b[1;33m,\u001b[0m \u001b[0mcompare_to\u001b[0m\u001b[1;33m=\u001b[0m\u001b[0mkanji_data\u001b[0m\u001b[1;33m[\u001b[0m\u001b[1;36m0\u001b[0m\u001b[1;33m]\u001b[0m\u001b[1;33m)\u001b[0m\u001b[1;33m\u001b[0m\u001b[1;33m\u001b[0m\u001b[0m\n\u001b[0m",
      "\u001b[1;31mTypeError\u001b[0m: draw_image() got an unexpected keyword argument 'compare_to'"
     ]
    }
   ],
   "source": [
    "draw_image(kanji_data[100], compare_to=kanji_data[0])"
   ]
  },
  {
   "cell_type": "code",
   "execution_count": 44,
   "id": "moving-article",
   "metadata": {},
   "outputs": [],
   "source": [
    "?draw_image"
   ]
  }
 ],
 "metadata": {
  "kernelspec": {
   "display_name": "Python 3",
   "language": "python",
   "name": "python3"
  },
  "language_info": {
   "codemirror_mode": {
    "name": "ipython",
    "version": 3
   },
   "file_extension": ".py",
   "mimetype": "text/x-python",
   "name": "python",
   "nbconvert_exporter": "python",
   "pygments_lexer": "ipython3",
   "version": "3.8.5"
  }
 },
 "nbformat": 4,
 "nbformat_minor": 5
}
